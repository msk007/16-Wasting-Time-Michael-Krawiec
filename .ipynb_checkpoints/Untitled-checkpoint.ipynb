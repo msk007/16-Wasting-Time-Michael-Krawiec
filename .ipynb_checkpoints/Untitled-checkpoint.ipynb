{
 "cells": [
  {
   "cell_type": "code",
   "execution_count": 1,
   "metadata": {
    "collapsed": true
   },
   "outputs": [],
   "source": [
    "import pandas as pd\n",
    "import numpy as np\n",
    "import matplotlib.pyplot as plt\n",
    "\n",
    "\n",
    "%matplotlib inline"
   ]
  },
  {
   "cell_type": "code",
   "execution_count": 2,
   "metadata": {
    "collapsed": true
   },
   "outputs": [],
   "source": [
    "summary= pd.read_csv('data/atussum_2014.dat')"
   ]
  },
  {
   "cell_type": "code",
   "execution_count": 3,
   "metadata": {
    "collapsed": true
   },
   "outputs": [],
   "source": [
    "data_summary = summary.rename(columns={\n",
    "    'tucaseid': 'case_id',\n",
    "    'TUFINLWGT': 'stat_weight',\n",
    "    'TRYHHCHILD': 'age_youngest_child',\n",
    "    'PEEDUCA': 'high_levl_edu',\n",
    "    'PTDTRACE': 'race',\n",
    "    'PEHSPNON': 'hisp', # 1 = yes , 2 = no\n",
    "    'GTMETSTA': 'metro', # metro status - urban, suburban, etc\n",
    "    'TEAGE': 'age', # topcoded to 85. All those 80 - 84 = 80. > 85 = 85\n",
    "    'TESEX': 'sex', # 1 = male, 2 = female\n",
    "    'TELFS': 'labor_status', # 1 = employed, at work\n",
    "                             # 2 = employed, absent\n",
    "                             # 3 = unemployed - on layoff\n",
    "                             # 4 = unemployed - looking\n",
    "                             # 5 = Not in labor force\n",
    "    'TEMJOT': 'more_1_job_7_days', # 1 = yes, 2 = no\n",
    "    'TRDPFTPT': 'ft_pt', # 1 = full time, 2 = part time\n",
    "    'TESCHENR': 'school_enrolled', # 1 = yes, 2 = no\n",
    "    'TESCHLVL': 'hs_or_col', # 1 = hs, 2 = col/univ\n",
    "    'TRSPPRES': 'spouse_present', # 1 = yes, 2 = unmarried partner present, 3 = no\n",
    "    'TESPEMPNOT': 'spouse_employed', # 1 = yes, 2 = no\n",
    "    'TRERNWA': 'weekly_earnings', # the maximum value cannot be greater than 2884.61)\n",
    "    'TRCHILDNUM': 'num_of_children',\n",
    "    'TRSPFTPT': 'spouse_ft_pt',\n",
    "    'TEHRUSLT': 'weekly_hours',\n",
    "    'TUDIARYDAY': 'interview_day_of_week', # 1 = sun - 7 = sat\n",
    "    'TRHOLIDAY': 'interview_on_holiday',\n",
    "    'TRTEC': 'eldercare_time_spent',\n",
    "    'TRTHH': 'childcare_time_spent',\n",
    "    \"t010101\": \"Sleeping\",\n",
    "    \"t010102\": \"Sleeplessness\",\n",
    "    \"t010199\": \"Sleeping, n.e.c.*\",\n",
    "    \"t010201\": \"Washing, dressing and grooming oneself\",\n",
    "    \"t010299\": \"Grooming, n.e.c.*\",\n",
    "    \"t010301\": \"Health-related self care\",\n",
    "    \"t010399\": \"Self care, n.e.c.*\",\n",
    "    \"t010401\": \"Personal/Private activities\",\n",
    "    \"t010499\": \"Personal activities, n.e.c.*\",\n",
    "    \"t010501\": \"Personal emergencies\",\n",
    "    \"t010599\": \"Personal care emergencies, n.e.c.*\",\n",
    "    \"t019999\": \"Personal Care, n.e.c.*\",\n",
    "    \"t020101\": \"Interior cleaning\",\n",
    "    \"t020102\": \"Laundry\",\n",
    "    \"t020103\": \"Sewing, repairing, & maintaining textiles\",\n",
    "    \"t020104\": \"Storing interior hh items, inc. food\",\n",
    "    \"t020199\": \"Housework, n.e.c.*\",\n",
    "    \"t020201\": \"Food and drink preparation\",\n",
    "    \"t020202\": \"Food presentation\",\n",
    "    \"t020203\": \"Kitchen and food clean-up\",\n",
    "    \"t020299\": \"Food & drink prep, presentation, & clean-up, n.e.c.*\",\n",
    "    \"t020301\": \"Interior arrangement, decoration, & repairs\",\n",
    "    \"t020302\": \"Building and repairing furniture\",\n",
    "    \"t020303\": \"Heating and cooling\",\n",
    "    \"t020399\": \"Interior maintenance, repair, & decoration, n.e.c.*\",\n",
    "    \"t020401\": \"Exterior cleaning\",\n",
    "    \"t020402\": \"Exterior repair, improvements, & decoration\",\n",
    "    \"t020499\": \"Exterior maintenance, repair & decoration, n.e.c.*\",\n",
    "    \"t020501\": \"Lawn, garden, and houseplant care\",\n",
    "    \"t020502\": \"Ponds, pools, and hot tubs\",\n",
    "    \"t020599\": \"Lawn and garden, n.e.c.*\",\n",
    "    \"t020601\": \"Care for animals and pets (not veterinary care)\",\n",
    "    \"t020602\": \"Walking / exercising / playing with animals\",\n",
    "    \"t020699\": \"Pet and animal care, n.e.c.*\",\n",
    "    \"t020701\": \"Vehicle repair and maintenance (by self)\",\n",
    "    \"t020799\": \"Vehicles, n.e.c.*\",\n",
    "    \"t020801\": \"Appliance, tool, and toy set-up, repair, & maintenance (by self)\",\n",
    "    \"t020899\": \"Appliances and tools, n.e.c.*\",\n",
    "    \"t020901\": \"Financial management\",\n",
    "    \"t020902\": \"Household & personal organization and planning\",\n",
    "    \"t020903\": \"HH & personal mail & messages (except e-mail)\",\n",
    "    \"t020904\": \"HH & personal e-mail and messages\",\n",
    "    \"t020905\": \"Home security\",\n",
    "    \"t020999\": \"Household management, n.e.c.*\",\n",
    "    \"t029999\": \"Household activities, n.e.c.*\",\n",
    "    \"t030101\": \"Physical care for hh children\",\n",
    "    \"t030102\": \"Reading to/with hh children\",\n",
    "    \"t030103\": \"Playing with hh children, not sports\",\n",
    "    \"t030104\": \"Arts and crafts with hh children\",\n",
    "    \"t030105\": \"Playing sports with hh children\",\n",
    "    \"t030106\": \"Talking with/listening to hh children\",\n",
    "    \"t030108\": \"Organization & planning for hh children\",\n",
    "    \"t030109\": \"Looking after hh children (as a primary activity)\",\n",
    "    \"t030110\": \"Attending hh children's events\",\n",
    "    \"t030111\": \"Waiting for/with hh children\",\n",
    "    \"t030112\": \"Picking up/dropping off hh children\",\n",
    "    \"t030199\": \"Caring for & helping hh children, n.e.c.*\",\n",
    "    \"t030201\": \"Homework (hh children)\",\n",
    "    \"t030202\": \"Meetings and school conferences (hh children)\",\n",
    "    \"t030203\": \"Home schooling of hh children\",\n",
    "    \"t030204\": \"Waiting associated with hh children's education\",\n",
    "    \"t030299\": \"Activities related to hh child's education, n.e.c.*\",\n",
    "    \"t030301\": \"Providing medical care to hh children\",\n",
    "    \"t030302\": \"Obtaining medical care for hh children\",\n",
    "    \"t030303\": \"Waiting associated with hh children's health\",\n",
    "    \"t030399\": \"Activities related to hh child's health, n.e.c.*\",\n",
    "    \"t030401\": \"Physical care for hh adults\",\n",
    "    \"t030402\": \"Looking after hh adult (as a primary activity)\",\n",
    "    \"t030403\": \"Providing medical care to hh adult\",\n",
    "    \"t030404\": \"Obtaining medical and care services for hh adult\",\n",
    "    \"t030405\": \"Waiting associated with caring for household adults\",\n",
    "    \"t030499\": \"Caring for household adults, n.e.c.*\",\n",
    "    \"t030501\": \"Helping hh adults\",\n",
    "    \"t030502\": \"Organization & planning for hh adults\",\n",
    "    \"t030503\": \"Picking up/dropping off hh adult\",\n",
    "    \"t030504\": \"Waiting associated with helping hh adults\",\n",
    "    \"t030599\": \"Helping household adults, n.e.c.*\",\n",
    "    \"t039999\": \"Caring for & helping hh members, n.e.c.*\",\n",
    "    \"t040101\": \"Physical care for nonhh children\",\n",
    "    \"t040102\": \"Reading to/with nonhh children\",\n",
    "    \"t040103\": \"Playing with nonhh children, not sports\",\n",
    "    \"t040104\": \"Arts and crafts with nonhh children\",\n",
    "    \"t040105\": \"Playing sports with nonhh children\",\n",
    "    \"t040106\": \"Talking with/listening to nonhh children\",\n",
    "    \"t040108\": \"Organization & planning for nonhh children\",\n",
    "    \"t040109\": \"Looking after nonhh children (as primary activity)\",\n",
    "    \"t040110\": \"Attending nonhh children's events\",\n",
    "    \"t040111\": \"Waiting for/with nonhh children\",\n",
    "    \"t040112\": \"Dropping off/picking up nonhh children\",\n",
    "    \"t040199\": \"Caring for and helping nonhh children, n.e.c.*\",\n",
    "    \"t040201\": \"Homework (nonhh children)\",\n",
    "    \"t040202\": \"Meetings and school conferences (nonhh children)\",\n",
    "    \"t040203\": \"Home schooling of nonhh children\",\n",
    "    \"t040204\": \"Waiting associated with nonhh children's education\",\n",
    "    \"t040299\": \"Activities related to nonhh child's educ., n.e.c.*\",\n",
    "    \"t040301\": \"Providing medical care to nonhh children\",\n",
    "    \"t040302\": \"Obtaining medical care for nonhh children\",\n",
    "    \"t040303\": \"Waiting associated with nonhh children's health\",\n",
    "    \"t040399\": \"Activities related to nonhh child's health, n.e.c.*\",\n",
    "    \"t040401\": \"Physical care for nonhh adults\",\n",
    "    \"t040402\": \"Looking after nonhh adult (as a primary activity)\",\n",
    "    \"t040403\": \"Providing medical care to nonhh adult\",\n",
    "    \"t040404\": \"Obtaining medical and care services for nonhh adult\",\n",
    "    \"t040405\": \"Waiting associated with caring for nonhh adults\",\n",
    "    \"t040499\": \"Caring for nonhh adults, n.e.c.*\",\n",
    "    \"t040501\": \"Housework, cooking, & shopping assistance for nonhh adults\",\n",
    "    \"t040502\": \"House & lawn maintenance & repair assistance for nonhh adults\",\n",
    "    \"t040503\": \"Animal & pet care assistance for nonhh adults\",\n",
    "    \"t040504\": \"Vehicle & appliance maintenance/repair assistance for nonhh adults\",\n",
    "    \"t040505\": \"Financial management assistance for nonhh adults\",\n",
    "    \"t040506\": \"Household management & paperwork assistance for nonhh adults\",\n",
    "    \"t040507\": \"Picking up/dropping off nonhh adult\",\n",
    "    \"t040508\": \"Waiting associated with helping nonhh adults\",\n",
    "    \"t040599\": \"Helping nonhh adults, n.e.c.*\",\n",
    "    \"t049999\": \"Caring for & helping nonhh members, n.e.c.*\",\n",
    "    \"t050101\": \"Work, main job\",\n",
    "    \"t050102\": \"Work, other job(s)\",\n",
    "    \"t050103\": \"Security procedures related to work\",\n",
    "    \"t050104\": \"Waiting associated with working\",\n",
    "    \"t050199\": \"Working, n.e.c.*\",\n",
    "    \"t050201\": \"Socializing, relaxing, and leisure as part of job\",\n",
    "    \"t050202\": \"Eating and drinking as part of job\",\n",
    "    \"t050203\": \"Sports and exercise as part of job\",\n",
    "    \"t050204\": \"Security procedures as part of job\",\n",
    "    \"t050205\": \"Waiting associated with work-related activities\",\n",
    "    \"t050299\": \"Work-related activities, n.e.c.*\",\n",
    "    \"t050301\": \"Income-generating hobbies, crafts, and food\",\n",
    "    \"t050302\": \"Income-generating performances\",\n",
    "    \"t050303\": \"Income-generating services\",\n",
    "    \"t050304\": \"Income-generating rental property activities\",\n",
    "    \"t050305\": \"Waiting associated with other income-generating activities\",\n",
    "    \"t050399\": \"Other income-generating activities, n.e.c.*\",\n",
    "    \"t050401\": \"Job search activities\",\n",
    "    \"t050403\": \"Job interviewing\",\n",
    "    \"t050404\": \"Waiting associated with job search or interview\",\n",
    "    \"t050405\": \"Security procedures rel. to job search/interviewing\",\n",
    "    \"t050499\": \"Job search and Interviewing, n.e.c.*\",\n",
    "    \"t059999\": \"Work and work-related activities, n.e.c.*\",\n",
    "    \"t060101\": \"Taking class for degree, certification, or licensure\",\n",
    "    \"t060102\": \"Taking class for personal interest\",\n",
    "    \"t060103\": \"Waiting associated with taking classes\",\n",
    "    \"t060104\": \"Security procedures rel. to taking classes\",\n",
    "    \"t060199\": \"Taking class, n.e.c.*\",\n",
    "    \"t060201\": \"Extracurricular club activities\",\n",
    "    \"t060202\": \"Extracurricular music & performance activities\",\n",
    "    \"t060203\": \"Extracurricular student government activities\",\n",
    "    \"t060204\": \"Waiting associated with extracurricular activities\",\n",
    "    \"t060299\": \"Education-related extracurricular activities, n.e.c.*\",\n",
    "    \"t060301\": \"Research/homework for class for degree, certification, or licensure\",\n",
    "    \"t060302\": \"Research/homework for class for pers. interest\",\n",
    "    \"t060303\": \"Waiting associated with research/homework\",\n",
    "    \"t060399\": \"Research/homework n.e.c.*\",\n",
    "    \"t060401\": \"Administrative activities: class for degree, certification, or licensure\",\n",
    "    \"t060402\": \"Administrative activities: class for personal interest\",\n",
    "    \"t060403\": \"Waiting associated w/admin. activities (education)\",\n",
    "    \"t060499\": \"Administrative for education, n.e.c.*\",\n",
    "    \"t069999\": \"Education, n.e.c.*\",\n",
    "    \"t070101\": \"Grocery shopping\",\n",
    "    \"t070102\": \"Purchasing gas\",\n",
    "    \"t070103\": \"Purchasing food (not groceries)\",\n",
    "    \"t070104\": \"Shopping, except groceries, food and gas\",\n",
    "    \"t070105\": \"Waiting associated with shopping\",\n",
    "    \"t070199\": \"Shopping, n.e.c.*\",\n",
    "    \"t070201\": \"Comparison shopping\",\n",
    "    \"t070299\": \"Researching purchases, n.e.c.*\",\n",
    "    \"t070301\": \"Security procedures rel. to consumer purchases\",\n",
    "    \"t070399\": \"Security procedures rel. to consumer purchases, n.e.c.*\",\n",
    "    \"t079999\": \"Consumer purchases, n.e.c.*\",\n",
    "    \"t080101\": \"Using paid childcare services\",\n",
    "    \"t080102\": \"Waiting associated w/purchasing childcare svcs\",\n",
    "    \"t080199\": \"Using paid childcare services, n.e.c.*\",\n",
    "    \"t080201\": \"Banking\",\n",
    "    \"t080202\": \"Using other financial services\",\n",
    "    \"t080203\": \"Waiting associated w/banking/financial services\",\n",
    "    \"t080299\": \"Using financial services and banking, n.e.c.*\",\n",
    "    \"t080301\": \"Using legal services\",\n",
    "    \"t080302\": \"Waiting associated with legal services\",\n",
    "    \"t080399\": \"Using legal services, n.e.c.*\",\n",
    "    \"t080401\": \"Using health and care services outside the home\",\n",
    "    \"t080402\": \"Using in-home health and care services\",\n",
    "    \"t080403\": \"Waiting associated with medical services\",\n",
    "    \"t080499\": \"Using medical services, n.e.c.*\",\n",
    "    \"t080501\": \"Using personal care services\",\n",
    "    \"t080502\": \"Waiting associated w/personal care services\",\n",
    "    \"t080599\": \"Using personal care services, n.e.c.*\",\n",
    "    \"t080601\": \"Activities rel. to purchasing/selling real estate\",\n",
    "    \"t080602\": \"Waiting associated w/purchasing/selling real estate\",\n",
    "    \"t080699\": \"Using real estate services, n.e.c.*\",\n",
    "    \"t080701\": \"Using veterinary services\",\n",
    "    \"t080702\": \"Waiting associated with veterinary services\",\n",
    "    \"t080799\": \"Using veterinary services, n.e.c.*\",\n",
    "    \"t080801\": \"Security procedures rel. to professional/personal svcs.\",\n",
    "    \"t080899\": \"Security procedures rel. to professional/personal svcs n.e.c.*\",\n",
    "    \"t089999\": \"Professional and personal services, n.e.c.*\",\n",
    "    \"t090101\": \"Using interior cleaning services\",\n",
    "    \"t090102\": \"Using meal preparation services\",\n",
    "    \"t090103\": \"Using clothing repair and cleaning services\",\n",
    "    \"t090104\": \"Waiting associated with using household services\",\n",
    "    \"t090199\": \"Using household services, n.e.c.*\",\n",
    "    \"t090201\": \"Using home maint/repair/décor/construction svcs\",\n",
    "    \"t090202\": \"Waiting associated w/ home main/repair/décor/constr\",\n",
    "    \"t090299\": \"Using home maint/repair/décor/constr services, n.e.c.*\",\n",
    "    \"t090301\": \"Using pet services\",\n",
    "    \"t090302\": \"Waiting associated with pet services\",\n",
    "    \"t090399\": \"Using pet services, n.e.c.*\",\n",
    "    \"t090401\": \"Using lawn and garden services\",\n",
    "    \"t090402\": \"Waiting associated with using lawn & garden services\",\n",
    "    \"t090499\": \"Using lawn and garden services, n.e.c.*\",\n",
    "    \"t090501\": \"Using vehicle maintenance or repair services\",\n",
    "    \"t090502\": \"Waiting associated with vehicle main. or repair svcs\",\n",
    "    \"t090599\": \"Using vehicle maint. & repair svcs, n.e.c.*\",\n",
    "    \"t099999\": \"Using household services, n.e.c.*\",\n",
    "    \"t100101\": \"Using police and fire services\",\n",
    "    \"t100102\": \"Using social services\",\n",
    "    \"t100103\": \"Obtaining licenses & paying fines, fees, taxes\",\n",
    "    \"t100199\": \"Using government services, n.e.c.*\",\n",
    "    \"t100201\": \"Civic obligations & participation\",\n",
    "    \"t100299\": \"Civic obligations & participation, n.e.c.*\",\n",
    "    \"t100304\": \"Waiting associated with using government services\",\n",
    "    \"t100305\": \"Waiting associated with civic obligations & participation\",\n",
    "    \"t100399\": \"Waiting assoc. w/govt svcs or civic obligations, n.e.c.*\",\n",
    "    \"t100401\": \"Security procedures rel. to govt svcs/civic obligations\",\n",
    "    \"t100499\": \"Security procedures rel. to govt svcs/civic obligations, n.e.c.*\",\n",
    "    \"t109999\": \"Government services, n.e.c.*\",\n",
    "    \"t110101\": \"Eating and drinking\",\n",
    "    \"t110199\": \"Eating and drinking, n.e.c.*\",\n",
    "    \"t110201\": \"Waiting associated w/eating & drinking\",\n",
    "    \"t110299\": \"Waiting associated with eating & drinking, n.e.c.*\",\n",
    "    \"t119999\": \"Eating and drinking, n.e.c.*\",\n",
    "    \"t120101\": \"Socializing and communicating with others\",\n",
    "    \"t120199\": \"Socializing and communicating, n.e.c.*\",\n",
    "    \"t120201\": \"Attending or hosting parties/receptions/ceremonies\",\n",
    "    \"t120202\": \"Attending meetings for personal interest (not volunteering)\",\n",
    "    \"t120299\": \"Attending/hosting social events, n.e.c.*\",\n",
    "    \"t120301\": \"Relaxing, thinking\",\n",
    "    \"t120302\": \"Tobacco and drug use\",\n",
    "    \"t120303\": \"Television and movies (not religious)\",\n",
    "    \"t120304\": \"Television (religious)\",\n",
    "    \"t120305\": \"Listening to the radio\",\n",
    "    \"t120306\": \"Listening to/playing music (not radio)\",\n",
    "    \"t120307\": \"Playing games\",\n",
    "    \"t120308\": \"Computer use for leisure (exc. Games)\",\n",
    "    \"t120309\": \"Arts and crafts as a hobby\",\n",
    "    \"t120310\": \"Collecting as a hobby\",\n",
    "    \"t120311\": \"Hobbies, except arts & crafts and collecting\",\n",
    "    \"t120312\": \"Reading for personal interest\",\n",
    "    \"t120313\": \"Writing for personal interest\",\n",
    "    \"t120399\": \"Relaxing and leisure, n.e.c.*\",\n",
    "    \"t120401\": \"Attending performing arts\",\n",
    "    \"t120402\": \"Attending museums\",\n",
    "    \"t120403\": \"Attending movies/film\",\n",
    "    \"t120404\": \"Attending gambling establishments\",\n",
    "    \"t120405\": \"Security procedures rel. to arts & entertainment\",\n",
    "    \"t120499\": \"Arts and entertainment, n.e.c.*\",\n",
    "    \"t120501\": \"Waiting assoc. w/socializing & communicating\",\n",
    "    \"t120502\": \"Waiting assoc. w/attending/hosting social events\",\n",
    "    \"t120503\": \"Waiting associated with relaxing/leisure\",\n",
    "    \"t120504\": \"Waiting associated with arts & entertainment\",\n",
    "    \"t120599\": \"Waiting associated with socializing, n.e.c.*\",\n",
    "    \"t129999\": \"Socializing, relaxing, and leisure, n.e.c.*\",\n",
    "    \"t130101\": \"Doing aerobics\",\n",
    "    \"t130102\": \"Playing baseball\",\n",
    "    \"t130103\": \"Playing basketball\",\n",
    "    \"t130104\": \"Biking\",\n",
    "    \"t130105\": \"Playing billiards\",\n",
    "    \"t130106\": \"Boating\",\n",
    "    \"t130107\": \"Bowling\",\n",
    "    \"t130108\": \"Climbing, spelunking, caving\",\n",
    "    \"t130109\": \"Dancing\",\n",
    "    \"t130110\": \"Participating in equestrian sports\",\n",
    "    \"t130111\": \"Fencing\",\n",
    "    \"t130112\": \"Fishing\",\n",
    "    \"t130113\": \"Playing football\",\n",
    "    \"t130114\": \"Golfing\",\n",
    "    \"t130115\": \"Doing gymnastics\",\n",
    "    \"t130116\": \"Hiking\",\n",
    "    \"t130117\": \"Playing hockey\",\n",
    "    \"t130118\": \"Hunting\",\n",
    "    \"t130119\": \"Participating in martial arts\",\n",
    "    \"t130120\": \"Playing racquet sports\",\n",
    "    \"t130121\": \"Participating in rodeo competitions\",\n",
    "    \"t130122\": \"Rollerblading\",\n",
    "    \"t130123\": \"Playing rugby\",\n",
    "    \"t130124\": \"Running\",\n",
    "    \"t130125\": \"Skiing, ice skating, snowboarding\",\n",
    "    \"t130126\": \"Playing soccer\",\n",
    "    \"t130127\": \"Softball\",\n",
    "    \"t130128\": \"Using cardiovascular equipment\",\n",
    "    \"t130129\": \"Vehicle touring/racing\",\n",
    "    \"t130130\": \"Playing volleyball\",\n",
    "    \"t130131\": \"Walking\",\n",
    "    \"t130132\": \"Participating in water sports\",\n",
    "    \"t130133\": \"Weightlifting/strength training\",\n",
    "    \"t130134\": \"Working out, unspecified\",\n",
    "    \"t130135\": \"Wrestling\",\n",
    "    \"t130136\": \"Doing yoga\",\n",
    "    \"t130199\": \"Playing sports n.e.c.*\",\n",
    "    \"t130201\": \"Watching aerobics\",\n",
    "    \"t130202\": \"Watching baseball\",\n",
    "    \"t130203\": \"Watching basketball\",\n",
    "    \"t130204\": \"Watching biking\",\n",
    "    \"t130205\": \"Watching billiards\",\n",
    "    \"t130206\": \"Watching boating\",\n",
    "    \"t130207\": \"Watching bowling\",\n",
    "    \"t130208\": \"Watching climbing, spelunking, caving\",\n",
    "    \"t130209\": \"Watching dancing\",\n",
    "    \"t130210\": \"Watching equestrian sports\",\n",
    "    \"t130211\": \"Watching fencing\",\n",
    "    \"t130212\": \"Watching fishing\",\n",
    "    \"t130213\": \"Watching football\",\n",
    "    \"t130214\": \"Watching golfing\",\n",
    "    \"t130215\": \"Watching gymnastics\",\n",
    "    \"t130216\": \"Watching hockey\",\n",
    "    \"t130217\": \"Watching martial arts\",\n",
    "    \"t130218\": \"Watching racquet sports\",\n",
    "    \"t130219\": \"Watching rodeo competitions\",\n",
    "    \"t130220\": \"Watching rollerblading\",\n",
    "    \"t130221\": \"Watching rugby\",\n",
    "    \"t130222\": \"Watching running\",\n",
    "    \"t130223\": \"Watching skiing, ice skating, snowboarding\",\n",
    "    \"t130224\": \"Watching soccer\",\n",
    "    \"t130225\": \"Watching softball\",\n",
    "    \"t130226\": \"Watching vehicle touring/racing\",\n",
    "    \"t130227\": \"Watching volleyball\",\n",
    "    \"t130228\": \"Watching walking\",\n",
    "    \"t130229\": \"Watching water sports\",\n",
    "    \"t130230\": \"Watching weightlifting/strength training\",\n",
    "    \"t130231\": \"Watching people working out, unspecified\",\n",
    "    \"t130232\": \"Watching wrestling\",\n",
    "    \"t130299\": \"Attending sporting events, n.e.c.*\",\n",
    "    \"t130301\": \"Waiting related to playing sports or exercising\",\n",
    "    \"t130302\": \"Waiting related to attending sporting events\",\n",
    "    \"t130399\": \"Waiting associated with sports, exercise, & recreation, n.e.c.*\",\n",
    "    \"t130401\": \"Security related to playing sports or exercising\",\n",
    "    \"t130402\": \"Security related to attending sporting events\",\n",
    "    \"t130499\": \"Security related to sports, exercise, & recreation, n.e.c.*\",\n",
    "    \"t139999\": \"Sports, exercise, & recreation, n.e.c.*\",\n",
    "    \"t140101\": \"Attending religious services\",\n",
    "    \"t140102\": \"Participation in religious practices\",\n",
    "    \"t140103\": \"Waiting associated w/religious & spiritual activities\",\n",
    "    \"t140104\": \"Security procedures rel. to religious & spiritual activities\",\n",
    "    \"t140105\": \"Religious education activities\",\n",
    "    \"t149999\": \"Religious and spiritual activities, n.e.c.*\",\n",
    "    \"t150101\": \"Computer use\",\n",
    "    \"t150102\": \"Organizing and preparing\",\n",
    "    \"t150103\": \"Reading\",\n",
    "    \"t150104\": \"Telephone calls (except hotline counseling)\",\n",
    "    \"t150105\": \"Writing\",\n",
    "    \"t150106\": \"Fundraising\",\n",
    "    \"t150199\": \"Administrative & support activities, n.e.c.*\",\n",
    "    \"t150201\": \"Food preparation, presentation, clean-up\",\n",
    "    \"t150202\": \"Collecting & delivering clothing & other goods\",\n",
    "    \"t150203\": \"Providing care\",\n",
    "    \"t150204\": \"Teaching, leading, counseling, mentoring\",\n",
    "    \"t150299\": \"Social service & care activities, n.e.c.*\",\n",
    "    \"t150301\": \"Building houses, wildlife sites, & other structures\",\n",
    "    \"t150302\": \"Indoor & outdoor maintenance, repair, & clean-up\",\n",
    "    \"t150399\": \"Indoor & outdoor maintenance, building & clean-up activities, n.e.c.*\",\n",
    "    \"t150401\": \"Performing\",\n",
    "    \"t150402\": \"Serving at volunteer events & cultural activities\",\n",
    "    \"t150499\": \"Participating in performance & cultural activities, n.e.c.*\",\n",
    "    \"t150501\": \"Attending meetings, conferences, & training\",\n",
    "    \"t150599\": \"Attending meetings, conferences, & training, n.e.c.*\",\n",
    "    \"t150601\": \"Public health activities\",\n",
    "    \"t150602\": \"Public safety activities\",\n",
    "    \"t150699\": \"Public health & safety activities, n.e.c.*\",\n",
    "    \"t150701\": \"Waiting associated with volunteer activities\",\n",
    "    \"t150799\": \"Waiting associated with volunteer activities, n.e.c.*\",\n",
    "    \"t150801\": \"Security procedures related to volunteer activities\",\n",
    "    \"t150899\": \"Security procedures related to volunteer activities, n.e.c.*\",\n",
    "    \"t159999\": \"Volunteer activities, n.e.c.*\",\n",
    "    \"t160101\": \"Telephone calls to/from family members\",\n",
    "    \"t160102\": \"Telephone calls to/from friends, neighbors, or acquaintances\",\n",
    "    \"t160103\": \"Telephone calls to/from education services providers\",\n",
    "    \"t160104\": \"Telephone calls to/from salespeople\",\n",
    "    \"t160105\": \"Telephone calls to/from professional or personal care svcs providers\",\n",
    "    \"t160106\": \"Telephone calls to/from household services providers\",\n",
    "    \"t160107\": \"Telephone calls to/from paid child or adult care providers\",\n",
    "    \"t160108\": \"Telephone calls to/from government officials\",\n",
    "    \"t160199\": \"Telephone calls (to or from), n.e.c.*\",\n",
    "    \"t160201\": \"Waiting associated with telephone calls\",\n",
    "    \"t160299\": \"Waiting associated with telephone calls, n.e.c.*\",\n",
    "    \"t169999\": \"Telephone calls, n.e.c.*\",\n",
    "    \"t180101\": \"Travel related to personal care\",\n",
    "    \"t180199\": \"Travel related to personal care, n.e.c.*\",\n",
    "    \"t180201\": \"Travel related to housework\",\n",
    "    \"t180202\": \"Travel related to food & drink prep., clean-up, & presentation\",\n",
    "    \"t180203\": \"Travel related to interior maintenance, repair, & decoration\",\n",
    "    \"t180204\": \"Travel related to exterior maintenance, repair, & decoration\",\n",
    "    \"t180205\": \"Travel related to lawn, garden, and houseplant care\",\n",
    "    \"t180206\": \"Travel related to care for animals and pets (not vet care)\",\n",
    "    \"t180207\": \"Travel related to vehicle care & maintenance (by self)\",\n",
    "    \"t180208\": \"Travel related to appliance, tool, and toy set-up, repair, & maintenance (by self)\",\n",
    "    \"t180209\": \"Travel related to household management\",\n",
    "    \"t180299\": \"Travel related to household activities, n.e.c.*\",\n",
    "    \"t180301\": \"Travel related to caring for & helping hh children\",\n",
    "    \"t180302\": \"Travel related to hh children's education\",\n",
    "    \"t180303\": \"Travel related to hh children's health\",\n",
    "    \"t180304\": \"Travel related to caring for hh adults\",\n",
    "    \"t180305\": \"Travel related to helping hh adults\",\n",
    "    \"t180399\": \"Travel rel. to caring for & helping hh members, n.e.c.*\",\n",
    "    \"t180401\": \"Travel related to caring for and helping nonhh children\",\n",
    "    \"t180402\": \"Travel related to nonhh children's education\",\n",
    "    \"t180403\": \"Travel related to nonhh children's health\",\n",
    "    \"t180404\": \"Travel related to caring for nonhh adults\",\n",
    "    \"t180405\": \"Travel related to helping nonhh adults\",\n",
    "    \"t180499\": \"Travel rel. to caring for & helping nonhh members, n.e.c.*\",\n",
    "    \"t180501\": \"Travel related to working\",\n",
    "    \"t180502\": \"Travel related to work-related activities\",\n",
    "    \"t180503\": \"Travel related to income-generating activities\",\n",
    "    \"t180504\": \"Travel related to job search & interviewing\",\n",
    "    \"t180599\": \"Travel related to work, n.e.c.*\",\n",
    "    \"t180601\": \"Travel related to taking class\",\n",
    "    \"t180602\": \"Travel related to extracurricular activities (ex. Sports)\",\n",
    "    \"t180603\": \"Travel related to research/homework\",\n",
    "    \"t180604\": \"Travel related to registration/administrative activities\",\n",
    "    \"t180699\": \"Travel related to education, n.e.c.*\",\n",
    "    \"t180701\": \"Travel related to grocery shopping\",\n",
    "    \"t180702\": \"Travel related to purchasing gas\",\n",
    "    \"t180703\": \"Travel related to purchasing food (not groceries)\",\n",
    "    \"t180704\": \"Travel related to shopping, ex groceries, food, and gas\",\n",
    "    \"t180799\": \"Travel related to consumer purchases, n.e.c.*\",\n",
    "    \"t180801\": \"Travel related to using childcare services\",\n",
    "    \"t180802\": \"Travel related to using financial services and banking\",\n",
    "    \"t180803\": \"Travel related to using legal services\",\n",
    "    \"t180804\": \"Travel related to using medical services\",\n",
    "    \"t180805\": \"Travel related to using personal care services\",\n",
    "    \"t180806\": \"Travel related to using real estate services\",\n",
    "    \"t180807\": \"Travel related to using veterinary services\",\n",
    "    \"t180899\": \"Travel rel. to using prof. & personal care services, n.e.c.*\",\n",
    "    \"t180901\": \"Travel related to using household services\",\n",
    "    \"t180902\": \"Travel related to using home main./repair/décor./construction svcs\",\n",
    "    \"t180903\": \"Travel related to using pet services (not vet)\",\n",
    "    \"t180904\": \"Travel related to using lawn and garden services\",\n",
    "    \"t180905\": \"Travel related to using vehicle maintenance & repair services\",\n",
    "    \"t180999\": \"Travel related to using household services, n.e.c.*\",\n",
    "    \"t181001\": \"Travel related to using government services\",\n",
    "    \"t181002\": \"Travel related to civic obligations & participation\",\n",
    "    \"t181099\": \"Travel rel. to govt svcs & civic obligations, n.e.c.*\",\n",
    "    \"t181101\": \"Travel related to eating and drinking\",\n",
    "    \"t181199\": \"Travel related to eating and drinking, n.e.c.*\",\n",
    "    \"t181201\": \"Travel related to socializing and communicating\",\n",
    "    \"t181202\": \"Travel related to attending or hosting social events\",\n",
    "    \"t181203\": \"Travel related to relaxing and leisure\",\n",
    "    \"t181204\": \"Travel related to arts and entertainment\",\n",
    "    \"t181205\": \"Travel as a form of entertainment\",\n",
    "    \"t181299\": \"Travel rel. to socializing, relaxing, & leisure, n.e.c.*\",\n",
    "    \"t181301\": \"Travel related to participating in sports/exercise/recreation\",\n",
    "    \"t181302\": \"Travel related to attending sporting/recreational events\",\n",
    "    \"t181399\": \"Travel related to sports, exercise, & recreation, n.e.c.*\",\n",
    "    \"t181401\": \"Travel related to religious/spiritual practices\",\n",
    "    \"t181499\": \"Travel rel. to religious/spiritual activities, n.e.c.*\",\n",
    "    \"t181501\": \"Travel related to volunteering\",\n",
    "    \"t181599\": \"Travel related to volunteer activities, n.e.c.*\",\n",
    "    \"t181601\": \"Travel related to phone calls\",\n",
    "    \"t181699\": \"Travel rel. to phone calls, n.e.c.*\",\n",
    "    \"t181801\": \"Security procedures related to traveling\",\n",
    "    \"t181899\": \"Security procedures related to traveling, n.e.c.*\",\n",
    "    \"t189999\": \"Traveling, n.e.c.*\",\n",
    "    \"t500101\": \"Insufficient detail in verbatim\",\n",
    "    \"t500103\": \"Missing travel or destination\",\n",
    "    \"t500105\": \"Respondent refused to provide information/'none of your business'\",\n",
    "    \"t500106\": \"Gap/can't remember\",\n",
    "    \"t500107\": \"Unable to code activity at 1st tier\",\n",
    "    \"t509999\": \"Data codes, n.e.c.*\"\n",
    "})"
   ]
  },
  {
   "cell_type": "code",
   "execution_count": 4,
   "metadata": {
    "collapsed": false
   },
   "outputs": [
    {
     "data": {
      "text/html": [
       "<div>\n",
       "<table border=\"1\" class=\"dataframe\">\n",
       "  <thead>\n",
       "    <tr style=\"text-align: right;\">\n",
       "      <th></th>\n",
       "      <th>case_id</th>\n",
       "      <th>stat_weight</th>\n",
       "      <th>age_youngest_child</th>\n",
       "      <th>age</th>\n",
       "      <th>sex</th>\n",
       "      <th>high_levl_edu</th>\n",
       "      <th>race</th>\n",
       "      <th>hisp</th>\n",
       "      <th>metro</th>\n",
       "      <th>labor_status</th>\n",
       "      <th>...</th>\n",
       "      <th>Travel related to phone calls</th>\n",
       "      <th>Travel rel. to phone calls, n.e.c.*</th>\n",
       "      <th>Security procedures related to traveling</th>\n",
       "      <th>Security procedures related to traveling, n.e.c.*</th>\n",
       "      <th>Traveling, n.e.c.*</th>\n",
       "      <th>Insufficient detail in verbatim</th>\n",
       "      <th>Missing travel or destination</th>\n",
       "      <th>Respondent refused to provide information/'none of your business'</th>\n",
       "      <th>Gap/can't remember</th>\n",
       "      <th>Unable to code activity at 1st tier</th>\n",
       "    </tr>\n",
       "  </thead>\n",
       "  <tbody>\n",
       "    <tr>\n",
       "      <th>0</th>\n",
       "      <td>20140101140007</td>\n",
       "      <td>4891315.826760</td>\n",
       "      <td>0</td>\n",
       "      <td>20</td>\n",
       "      <td>2</td>\n",
       "      <td>39</td>\n",
       "      <td>1</td>\n",
       "      <td>1</td>\n",
       "      <td>1</td>\n",
       "      <td>4</td>\n",
       "      <td>...</td>\n",
       "      <td>0</td>\n",
       "      <td>0</td>\n",
       "      <td>0</td>\n",
       "      <td>0</td>\n",
       "      <td>0</td>\n",
       "      <td>0</td>\n",
       "      <td>0</td>\n",
       "      <td>0</td>\n",
       "      <td>0</td>\n",
       "      <td>0</td>\n",
       "    </tr>\n",
       "    <tr>\n",
       "      <th>1</th>\n",
       "      <td>20140101140011</td>\n",
       "      <td>23147368.359655</td>\n",
       "      <td>16</td>\n",
       "      <td>16</td>\n",
       "      <td>2</td>\n",
       "      <td>37</td>\n",
       "      <td>2</td>\n",
       "      <td>2</td>\n",
       "      <td>1</td>\n",
       "      <td>1</td>\n",
       "      <td>...</td>\n",
       "      <td>0</td>\n",
       "      <td>0</td>\n",
       "      <td>0</td>\n",
       "      <td>0</td>\n",
       "      <td>0</td>\n",
       "      <td>0</td>\n",
       "      <td>0</td>\n",
       "      <td>0</td>\n",
       "      <td>0</td>\n",
       "      <td>0</td>\n",
       "    </tr>\n",
       "    <tr>\n",
       "      <th>2</th>\n",
       "      <td>20140101140028</td>\n",
       "      <td>20941823.429044</td>\n",
       "      <td>2</td>\n",
       "      <td>65</td>\n",
       "      <td>2</td>\n",
       "      <td>38</td>\n",
       "      <td>1</td>\n",
       "      <td>1</td>\n",
       "      <td>1</td>\n",
       "      <td>5</td>\n",
       "      <td>...</td>\n",
       "      <td>0</td>\n",
       "      <td>0</td>\n",
       "      <td>0</td>\n",
       "      <td>0</td>\n",
       "      <td>0</td>\n",
       "      <td>0</td>\n",
       "      <td>0</td>\n",
       "      <td>0</td>\n",
       "      <td>0</td>\n",
       "      <td>0</td>\n",
       "    </tr>\n",
       "    <tr>\n",
       "      <th>3</th>\n",
       "      <td>20140101140063</td>\n",
       "      <td>2505899.417166</td>\n",
       "      <td>-1</td>\n",
       "      <td>50</td>\n",
       "      <td>2</td>\n",
       "      <td>39</td>\n",
       "      <td>2</td>\n",
       "      <td>2</td>\n",
       "      <td>2</td>\n",
       "      <td>5</td>\n",
       "      <td>...</td>\n",
       "      <td>0</td>\n",
       "      <td>0</td>\n",
       "      <td>0</td>\n",
       "      <td>0</td>\n",
       "      <td>0</td>\n",
       "      <td>0</td>\n",
       "      <td>0</td>\n",
       "      <td>0</td>\n",
       "      <td>0</td>\n",
       "      <td>0</td>\n",
       "    </tr>\n",
       "    <tr>\n",
       "      <th>4</th>\n",
       "      <td>20140101140168</td>\n",
       "      <td>15928231.823165</td>\n",
       "      <td>8</td>\n",
       "      <td>23</td>\n",
       "      <td>2</td>\n",
       "      <td>39</td>\n",
       "      <td>2</td>\n",
       "      <td>2</td>\n",
       "      <td>2</td>\n",
       "      <td>4</td>\n",
       "      <td>...</td>\n",
       "      <td>0</td>\n",
       "      <td>0</td>\n",
       "      <td>0</td>\n",
       "      <td>0</td>\n",
       "      <td>0</td>\n",
       "      <td>0</td>\n",
       "      <td>0</td>\n",
       "      <td>0</td>\n",
       "      <td>0</td>\n",
       "      <td>0</td>\n",
       "    </tr>\n",
       "  </tbody>\n",
       "</table>\n",
       "<p>5 rows × 409 columns</p>\n",
       "</div>"
      ],
      "text/plain": [
       "          case_id      stat_weight  age_youngest_child  age  sex  \\\n",
       "0  20140101140007   4891315.826760                   0   20    2   \n",
       "1  20140101140011  23147368.359655                  16   16    2   \n",
       "2  20140101140028  20941823.429044                   2   65    2   \n",
       "3  20140101140063   2505899.417166                  -1   50    2   \n",
       "4  20140101140168  15928231.823165                   8   23    2   \n",
       "\n",
       "   high_levl_edu  race  hisp  metro  labor_status  \\\n",
       "0             39     1     1      1             4   \n",
       "1             37     2     2      1             1   \n",
       "2             38     1     1      1             5   \n",
       "3             39     2     2      2             5   \n",
       "4             39     2     2      2             4   \n",
       "\n",
       "                  ...                   Travel related to phone calls  \\\n",
       "0                 ...                                               0   \n",
       "1                 ...                                               0   \n",
       "2                 ...                                               0   \n",
       "3                 ...                                               0   \n",
       "4                 ...                                               0   \n",
       "\n",
       "   Travel rel. to phone calls, n.e.c.*  \\\n",
       "0                                    0   \n",
       "1                                    0   \n",
       "2                                    0   \n",
       "3                                    0   \n",
       "4                                    0   \n",
       "\n",
       "   Security procedures related to traveling  \\\n",
       "0                                         0   \n",
       "1                                         0   \n",
       "2                                         0   \n",
       "3                                         0   \n",
       "4                                         0   \n",
       "\n",
       "   Security procedures related to traveling, n.e.c.*  Traveling, n.e.c.*  \\\n",
       "0                                                  0                   0   \n",
       "1                                                  0                   0   \n",
       "2                                                  0                   0   \n",
       "3                                                  0                   0   \n",
       "4                                                  0                   0   \n",
       "\n",
       "   Insufficient detail in verbatim  Missing travel or destination  \\\n",
       "0                                0                              0   \n",
       "1                                0                              0   \n",
       "2                                0                              0   \n",
       "3                                0                              0   \n",
       "4                                0                              0   \n",
       "\n",
       "   Respondent refused to provide information/'none of your business'  \\\n",
       "0                                                  0                   \n",
       "1                                                  0                   \n",
       "2                                                  0                   \n",
       "3                                                  0                   \n",
       "4                                                  0                   \n",
       "\n",
       "   Gap/can't remember  Unable to code activity at 1st tier  \n",
       "0                   0                                    0  \n",
       "1                   0                                    0  \n",
       "2                   0                                    0  \n",
       "3                   0                                    0  \n",
       "4                   0                                    0  \n",
       "\n",
       "[5 rows x 409 columns]"
      ]
     },
     "execution_count": 4,
     "metadata": {},
     "output_type": "execute_result"
    }
   ],
   "source": [
    "data_summary.head()"
   ]
  },
  {
   "cell_type": "code",
   "execution_count": 5,
   "metadata": {
    "collapsed": false
   },
   "outputs": [
    {
     "data": {
      "text/plain": [
       "Index(['case_id', 'stat_weight', 'age_youngest_child', 'age', 'sex',\n",
       "       'high_levl_edu', 'race', 'hisp', 'metro', 'labor_status', \n",
       "       ...\n",
       "       'Travel related to phone calls', 'Travel rel. to phone calls, n.e.c.*',\n",
       "       'Security procedures related to traveling',\n",
       "       'Security procedures related to traveling, n.e.c.*',\n",
       "       'Traveling, n.e.c.*', 'Insufficient detail in verbatim',\n",
       "       'Missing travel or destination',\n",
       "       'Respondent refused to provide information/'none of your business'',\n",
       "       'Gap/can't remember', 'Unable to code activity at 1st tier'],\n",
       "      dtype='object', length=409)"
      ]
     },
     "execution_count": 5,
     "metadata": {},
     "output_type": "execute_result"
    }
   ],
   "source": [
    "data_summary.keys()"
   ]
  },
  {
   "cell_type": "code",
   "execution_count": 6,
   "metadata": {
    "collapsed": false
   },
   "outputs": [
    {
     "name": "stdout",
     "output_type": "stream",
     "text": [
      "<class 'pandas.core.frame.DataFrame'>\n",
      "Int64Index: 11592 entries, 0 to 11591\n",
      "Columns: 409 entries, case_id to Unable to code activity at 1st tier\n",
      "dtypes: float64(1), int64(408)\n",
      "memory usage: 36.3 MB\n"
     ]
    }
   ],
   "source": [
    "data_summary.info()"
   ]
  },
  {
   "cell_type": "code",
   "execution_count": null,
   "metadata": {
    "collapsed": false
   },
   "outputs": [],
   "source": []
  },
  {
   "cell_type": "code",
   "execution_count": 7,
   "metadata": {
    "collapsed": false
   },
   "outputs": [
    {
     "data": {
      "text/html": [
       "<div>\n",
       "<table border=\"1\" class=\"dataframe\">\n",
       "  <thead>\n",
       "    <tr style=\"text-align: right;\">\n",
       "      <th></th>\n",
       "      <th>case_id</th>\n",
       "      <th>metro</th>\n",
       "      <th>sex</th>\n",
       "      <th>Computer use</th>\n",
       "      <th>age</th>\n",
       "      <th>labor_status</th>\n",
       "      <th>Tobacco and drug use</th>\n",
       "    </tr>\n",
       "  </thead>\n",
       "  <tbody>\n",
       "    <tr>\n",
       "      <th>0</th>\n",
       "      <td>20140101140007</td>\n",
       "      <td>1</td>\n",
       "      <td>2</td>\n",
       "      <td>0</td>\n",
       "      <td>20</td>\n",
       "      <td>4</td>\n",
       "      <td>0</td>\n",
       "    </tr>\n",
       "    <tr>\n",
       "      <th>1</th>\n",
       "      <td>20140101140011</td>\n",
       "      <td>1</td>\n",
       "      <td>2</td>\n",
       "      <td>0</td>\n",
       "      <td>16</td>\n",
       "      <td>1</td>\n",
       "      <td>0</td>\n",
       "    </tr>\n",
       "    <tr>\n",
       "      <th>2</th>\n",
       "      <td>20140101140028</td>\n",
       "      <td>1</td>\n",
       "      <td>2</td>\n",
       "      <td>0</td>\n",
       "      <td>65</td>\n",
       "      <td>5</td>\n",
       "      <td>0</td>\n",
       "    </tr>\n",
       "    <tr>\n",
       "      <th>3</th>\n",
       "      <td>20140101140063</td>\n",
       "      <td>2</td>\n",
       "      <td>2</td>\n",
       "      <td>0</td>\n",
       "      <td>50</td>\n",
       "      <td>5</td>\n",
       "      <td>0</td>\n",
       "    </tr>\n",
       "    <tr>\n",
       "      <th>4</th>\n",
       "      <td>20140101140168</td>\n",
       "      <td>2</td>\n",
       "      <td>2</td>\n",
       "      <td>0</td>\n",
       "      <td>23</td>\n",
       "      <td>4</td>\n",
       "      <td>0</td>\n",
       "    </tr>\n",
       "  </tbody>\n",
       "</table>\n",
       "</div>"
      ],
      "text/plain": [
       "          case_id  metro  sex  Computer use  age  labor_status  \\\n",
       "0  20140101140007      1    2             0   20             4   \n",
       "1  20140101140011      1    2             0   16             1   \n",
       "2  20140101140028      1    2             0   65             5   \n",
       "3  20140101140063      2    2             0   50             5   \n",
       "4  20140101140168      2    2             0   23             4   \n",
       "\n",
       "   Tobacco and drug use  \n",
       "0                     0  \n",
       "1                     0  \n",
       "2                     0  \n",
       "3                     0  \n",
       "4                     0  "
      ]
     },
     "execution_count": 7,
     "metadata": {},
     "output_type": "execute_result"
    }
   ],
   "source": [
    "location=data_summary[['case_id', 'metro', 'sex', 'Computer use','age', 'labor_status','Tobacco and drug use']]\n",
    "\n",
    "location.head()"
   ]
  },
  {
   "cell_type": "code",
   "execution_count": 8,
   "metadata": {
    "collapsed": false
   },
   "outputs": [],
   "source": [
    "city = location[location.metro==1]\n",
    "non_city = location[location.metro==2]\n",
    "\n",
    "\n"
   ]
  },
  {
   "cell_type": "code",
   "execution_count": 9,
   "metadata": {
    "collapsed": false
   },
   "outputs": [
    {
     "data": {
      "text/plain": [
       "<matplotlib.text.Text at 0x1028b19e8>"
      ]
     },
     "execution_count": 9,
     "metadata": {},
     "output_type": "execute_result"
    },
    {
     "data": {
      "image/png": "[encoded data removed]",
      "text/plain": [
       "<matplotlib.figure.Figure at 0x1076fd198>"
      ]
     },
     "metadata": {},
     "output_type": "display_data"
    }
   ],
   "source": [
    "location['sex'].plot(kind='hist')\n",
    "plt.title('sex of respondents:{}'.format(location['metro'].count()))\n",
    "plt.ylabel(\"Frequency\")\n",
    "plt.xlabel(\"sex: 1 is male 2 is female\")\n",
    "\n",
    "##Measuring nuber of respondents by sex. There were slightly more female respondents than male."
   ]
  },
  {
   "cell_type": "code",
   "execution_count": 10,
   "metadata": {
    "collapsed": false
   },
   "outputs": [
    {
     "data": {
      "text/plain": [
       "<matplotlib.text.Text at 0x10786d080>"
      ]
     },
     "execution_count": 10,
     "metadata": {},
     "output_type": "execute_result"
    },
    {
     "data": {
      "image/png": "[encoded data removed]",
      "text/plain": [
       "<matplotlib.figure.Figure at 0x1076fd518>"
      ]
     },
     "metadata": {},
     "output_type": "display_data"
    }
   ],
   "source": [
    "location['metro'].plot(kind='hist')\n",
    "plt.title('Computer use in metro areas:{}'.format(location['Computer use'].count()))\n",
    "plt.ylabel(\"amount\")\n",
    "plt.xlabel(\"location: 1 is city, 2 is not a city, 3 is undefined\")\n",
    "##Most people using computers are in the city"
   ]
  },
  {
   "cell_type": "code",
   "execution_count": 11,
   "metadata": {
    "collapsed": false
   },
   "outputs": [
    {
     "data": {
      "text/html": [
       "<div>\n",
       "<table border=\"1\" class=\"dataframe\">\n",
       "  <thead>\n",
       "    <tr style=\"text-align: right;\">\n",
       "      <th></th>\n",
       "      <th>case_id</th>\n",
       "      <th>metro</th>\n",
       "      <th>sex</th>\n",
       "      <th>Computer use</th>\n",
       "      <th>age</th>\n",
       "      <th>labor_status</th>\n",
       "      <th>Tobacco and drug use</th>\n",
       "    </tr>\n",
       "  </thead>\n",
       "  <tbody>\n",
       "    <tr>\n",
       "      <th>case_id</th>\n",
       "      <td>1.000000</td>\n",
       "      <td>0.014979</td>\n",
       "      <td>-0.017115</td>\n",
       "      <td>-0.012063</td>\n",
       "      <td>-0.007162</td>\n",
       "      <td>-0.010093</td>\n",
       "      <td>0.010170</td>\n",
       "    </tr>\n",
       "    <tr>\n",
       "      <th>metro</th>\n",
       "      <td>0.014979</td>\n",
       "      <td>1.000000</td>\n",
       "      <td>-0.008446</td>\n",
       "      <td>-0.018124</td>\n",
       "      <td>0.040644</td>\n",
       "      <td>0.027930</td>\n",
       "      <td>0.001297</td>\n",
       "    </tr>\n",
       "    <tr>\n",
       "      <th>sex</th>\n",
       "      <td>-0.017115</td>\n",
       "      <td>-0.008446</td>\n",
       "      <td>1.000000</td>\n",
       "      <td>0.021509</td>\n",
       "      <td>0.051919</td>\n",
       "      <td>0.148272</td>\n",
       "      <td>0.002179</td>\n",
       "    </tr>\n",
       "    <tr>\n",
       "      <th>Computer use</th>\n",
       "      <td>-0.012063</td>\n",
       "      <td>-0.018124</td>\n",
       "      <td>0.021509</td>\n",
       "      <td>1.000000</td>\n",
       "      <td>0.026761</td>\n",
       "      <td>0.034641</td>\n",
       "      <td>-0.004151</td>\n",
       "    </tr>\n",
       "    <tr>\n",
       "      <th>age</th>\n",
       "      <td>-0.007162</td>\n",
       "      <td>0.040644</td>\n",
       "      <td>0.051919</td>\n",
       "      <td>0.026761</td>\n",
       "      <td>1.000000</td>\n",
       "      <td>0.358194</td>\n",
       "      <td>-0.012528</td>\n",
       "    </tr>\n",
       "    <tr>\n",
       "      <th>labor_status</th>\n",
       "      <td>-0.010093</td>\n",
       "      <td>0.027930</td>\n",
       "      <td>0.148272</td>\n",
       "      <td>0.034641</td>\n",
       "      <td>0.358194</td>\n",
       "      <td>1.000000</td>\n",
       "      <td>0.008899</td>\n",
       "    </tr>\n",
       "    <tr>\n",
       "      <th>Tobacco and drug use</th>\n",
       "      <td>0.010170</td>\n",
       "      <td>0.001297</td>\n",
       "      <td>0.002179</td>\n",
       "      <td>-0.004151</td>\n",
       "      <td>-0.012528</td>\n",
       "      <td>0.008899</td>\n",
       "      <td>1.000000</td>\n",
       "    </tr>\n",
       "  </tbody>\n",
       "</table>\n",
       "</div>"
      ],
      "text/plain": [
       "                       case_id     metro       sex  Computer use       age  \\\n",
       "case_id               1.000000  0.014979 -0.017115     -0.012063 -0.007162   \n",
       "metro                 0.014979  1.000000 -0.008446     -0.018124  0.040644   \n",
       "sex                  -0.017115 -0.008446  1.000000      0.021509  0.051919   \n",
       "Computer use         -0.012063 -0.018124  0.021509      1.000000  0.026761   \n",
       "age                  -0.007162  0.040644  0.051919      0.026761  1.000000   \n",
       "labor_status         -0.010093  0.027930  0.148272      0.034641  0.358194   \n",
       "Tobacco and drug use  0.010170  0.001297  0.002179     -0.004151 -0.012528   \n",
       "\n",
       "                      labor_status  Tobacco and drug use  \n",
       "case_id                  -0.010093              0.010170  \n",
       "metro                     0.027930              0.001297  \n",
       "sex                       0.148272              0.002179  \n",
       "Computer use              0.034641             -0.004151  \n",
       "age                       0.358194             -0.012528  \n",
       "labor_status              1.000000              0.008899  \n",
       "Tobacco and drug use      0.008899              1.000000  "
      ]
     },
     "execution_count": 11,
     "metadata": {},
     "output_type": "execute_result"
    }
   ],
   "source": [
    "location.corr()\n"
   ]
  },
  {
   "cell_type": "code",
   "execution_count": 12,
   "metadata": {
    "collapsed": false
   },
   "outputs": [
    {
     "data": {
      "text/plain": [
       "<matplotlib.axes._subplots.AxesSubplot at 0x10789cba8>"
      ]
     },
     "execution_count": 12,
     "metadata": {},
     "output_type": "execute_result"
    },
    {
     "data": {
      "image/png": "[encoded data removed]",
      "text/plain": [
       "<matplotlib.figure.Figure at 0x1078a4a20>"
      ]
     },
     "metadata": {},
     "output_type": "display_data"
    }
   ],
   "source": [
    "location.corr().plot(kind='line', x=['Tobacco and drug use'], y=['Computer use'])\n",
    "##No real correlation between tobacco and drug use"
   ]
  },
  {
   "cell_type": "code",
   "execution_count": null,
   "metadata": {
    "collapsed": false
   },
   "outputs": [],
   "source": [
    "\n"
   ]
  },
  {
   "cell_type": "code",
   "execution_count": 13,
   "metadata": {
    "collapsed": false
   },
   "outputs": [
    {
     "data": {
      "text/plain": [
       "<matplotlib.axes._subplots.AxesSubplot at 0x10784c470>"
      ]
     },
     "execution_count": 13,
     "metadata": {},
     "output_type": "execute_result"
    },
    {
     "data": {
      "image/png": "[encoded data removed]",
      "text/plain": [
       "<matplotlib.figure.Figure at 0x107b66ac8>"
      ]
     },
     "metadata": {},
     "output_type": "display_data"
    }
   ],
   "source": [
    "location.plot(kind='scatter',y='Computer use',x='sex')\n",
    "##Females use the computer slightly more"
   ]
  },
  {
   "cell_type": "code",
   "execution_count": 14,
   "metadata": {
    "collapsed": false
   },
   "outputs": [
    {
     "data": {
      "text/plain": [
       "<matplotlib.axes._subplots.AxesSubplot at 0x107ea7668>"
      ]
     },
     "execution_count": 14,
     "metadata": {},
     "output_type": "execute_result"
    },
    {
     "data": {
      "image/png": "[encoded data removed]",
      "text/plain": [
       "<matplotlib.figure.Figure at 0x107eb8278>"
      ]
     },
     "metadata": {},
     "output_type": "display_data"
    }
   ],
   "source": [
    "location.plot(kind='scatter',y='Computer use',x='age')\n",
    "##Computer use seems to trend up from 20's to mid 50's then decrease."
   ]
  },
  {
   "cell_type": "code",
   "execution_count": 15,
   "metadata": {
    "collapsed": false
   },
   "outputs": [
    {
     "data": {
      "text/plain": [
       "<matplotlib.axes._subplots.AxesSubplot at 0x1135c3470>"
      ]
     },
     "execution_count": 15,
     "metadata": {},
     "output_type": "execute_result"
    },
    {
     "data": {
      "image/png": "[encoded data removed]",
      "text/plain": [
       "<matplotlib.figure.Figure at 0x1135cd400>"
      ]
     },
     "metadata": {},
     "output_type": "display_data"
    }
   ],
   "source": [
    "location.plot(kind='line',y='Computer use',x='age')\n",
    "##It seems like there is more time spent using the computer based on age."
   ]
  },
  {
   "cell_type": "code",
   "execution_count": 16,
   "metadata": {
    "collapsed": false
   },
   "outputs": [
    {
     "data": {
      "text/plain": [
       "<matplotlib.text.Text at 0x107eb8cc0>"
      ]
     },
     "execution_count": 16,
     "metadata": {},
     "output_type": "execute_result"
    },
    {
     "data": {
      "image/png": "[encoded data removed]",
      "text/plain": [
       "<matplotlib.figure.Figure at 0x113857048>"
      ]
     },
     "metadata": {},
     "output_type": "display_data"
    }
   ],
   "source": [
    "location.plot(kind='scatter',y='Computer use',x='labor_status') \n",
    "plt.xlabel('1 = employed, at work - 2 = employed, absent - 3 = unemployed , on layoff - 4 = unemployed , looking - 5 = Not in labor force')\n",
    "#People using the computer the most are out of the job market, followed by people at work."
   ]
  },
  {
   "cell_type": "code",
   "execution_count": 17,
   "metadata": {
    "collapsed": false
   },
   "outputs": [
    {
     "name": "stderr",
     "output_type": "stream",
     "text": [
      "/Users/FANTICKLE/documents/assignments/wasting-time/16-Wasting-Time-Michael-Krawiec/.direnv/python-3.4.3/lib/python3.4/site-packages/matplotlib/axes/_base.py:2562: UserWarning: Attempting to set identical left==right results\n",
      "in singular transformations; automatically expanding.\n",
      "left=0.0, right=0.0\n",
      "  'left=%s, right=%s') % (left, right))\n"
     ]
    },
    {
     "data": {
      "text/plain": [
       "<matplotlib.text.Text at 0x107c51b00>"
      ]
     },
     "execution_count": 17,
     "metadata": {},
     "output_type": "execute_result"
    },
    {
     "data": {
      "image/png": "[encoded data removed]",
      "text/plain": [
       "<matplotlib.figure.Figure at 0x1139666d8>"
      ]
     },
     "metadata": {},
     "output_type": "display_data"
    }
   ],
   "source": [
    "location.plot(kind='line',y='Computer use',x='Tobacco and drug use') \n",
    "plt.xlabel('1 = male,  2 = female')"
   ]
  },
  {
   "cell_type": "code",
   "execution_count": 18,
   "metadata": {
    "collapsed": false
   },
   "outputs": [
    {
     "data": {
      "text/html": [
       "<div>\n",
       "<table border=\"1\" class=\"dataframe\">\n",
       "  <thead>\n",
       "    <tr>\n",
       "      <th></th>\n",
       "      <th colspan=\"21\" halign=\"left\">labor_status</th>\n",
       "    </tr>\n",
       "    <tr>\n",
       "      <th>age</th>\n",
       "      <th>15</th>\n",
       "      <th>16</th>\n",
       "      <th>17</th>\n",
       "      <th>18</th>\n",
       "      <th>19</th>\n",
       "      <th>20</th>\n",
       "      <th>21</th>\n",
       "      <th>22</th>\n",
       "      <th>23</th>\n",
       "      <th>24</th>\n",
       "      <th>...</th>\n",
       "      <th>72</th>\n",
       "      <th>73</th>\n",
       "      <th>74</th>\n",
       "      <th>75</th>\n",
       "      <th>76</th>\n",
       "      <th>77</th>\n",
       "      <th>78</th>\n",
       "      <th>79</th>\n",
       "      <th>80</th>\n",
       "      <th>85</th>\n",
       "    </tr>\n",
       "    <tr>\n",
       "      <th>metro</th>\n",
       "      <th></th>\n",
       "      <th></th>\n",
       "      <th></th>\n",
       "      <th></th>\n",
       "      <th></th>\n",
       "      <th></th>\n",
       "      <th></th>\n",
       "      <th></th>\n",
       "      <th></th>\n",
       "      <th></th>\n",
       "      <th></th>\n",
       "      <th></th>\n",
       "      <th></th>\n",
       "      <th></th>\n",
       "      <th></th>\n",
       "      <th></th>\n",
       "      <th></th>\n",
       "      <th></th>\n",
       "      <th></th>\n",
       "      <th></th>\n",
       "      <th></th>\n",
       "    </tr>\n",
       "  </thead>\n",
       "  <tbody>\n",
       "    <tr>\n",
       "      <th>1</th>\n",
       "      <td>4.365854</td>\n",
       "      <td>3.960938</td>\n",
       "      <td>3.304688</td>\n",
       "      <td>3.244186</td>\n",
       "      <td>2.753623</td>\n",
       "      <td>2.263158</td>\n",
       "      <td>2.380282</td>\n",
       "      <td>1.848485</td>\n",
       "      <td>2.126316</td>\n",
       "      <td>1.786517</td>\n",
       "      <td>...</td>\n",
       "      <td>4.106667</td>\n",
       "      <td>4.352273</td>\n",
       "      <td>4.260417</td>\n",
       "      <td>4.567568</td>\n",
       "      <td>4.563380</td>\n",
       "      <td>4.428571</td>\n",
       "      <td>4.753086</td>\n",
       "      <td>4.812500</td>\n",
       "      <td>4.804428</td>\n",
       "      <td>4.785366</td>\n",
       "    </tr>\n",
       "    <tr>\n",
       "      <th>2</th>\n",
       "      <td>4.500000</td>\n",
       "      <td>3.689655</td>\n",
       "      <td>3.785714</td>\n",
       "      <td>3.000000</td>\n",
       "      <td>3.000000</td>\n",
       "      <td>2.000000</td>\n",
       "      <td>2.250000</td>\n",
       "      <td>2.461538</td>\n",
       "      <td>2.200000</td>\n",
       "      <td>2.227273</td>\n",
       "      <td>...</td>\n",
       "      <td>4.840000</td>\n",
       "      <td>4.047619</td>\n",
       "      <td>4.000000</td>\n",
       "      <td>4.421053</td>\n",
       "      <td>4.764706</td>\n",
       "      <td>4.750000</td>\n",
       "      <td>4.333333</td>\n",
       "      <td>4.304348</td>\n",
       "      <td>4.645161</td>\n",
       "      <td>4.927273</td>\n",
       "    </tr>\n",
       "    <tr>\n",
       "      <th>3</th>\n",
       "      <td>NaN</td>\n",
       "      <td>2.000000</td>\n",
       "      <td>1.000000</td>\n",
       "      <td>2.500000</td>\n",
       "      <td>2.333333</td>\n",
       "      <td>1.000000</td>\n",
       "      <td>1.000000</td>\n",
       "      <td>5.000000</td>\n",
       "      <td>NaN</td>\n",
       "      <td>NaN</td>\n",
       "      <td>...</td>\n",
       "      <td>5.000000</td>\n",
       "      <td>5.000000</td>\n",
       "      <td>NaN</td>\n",
       "      <td>1.000000</td>\n",
       "      <td>5.000000</td>\n",
       "      <td>NaN</td>\n",
       "      <td>5.000000</td>\n",
       "      <td>NaN</td>\n",
       "      <td>5.000000</td>\n",
       "      <td>5.000000</td>\n",
       "    </tr>\n",
       "  </tbody>\n",
       "</table>\n",
       "<p>3 rows × 67 columns</p>\n",
       "</div>"
      ],
      "text/plain": [
       "      labor_status                                                    \\\n",
       "age             15        16        17        18        19        20   \n",
       "metro                                                                  \n",
       "1         4.365854  3.960938  3.304688  3.244186  2.753623  2.263158   \n",
       "2         4.500000  3.689655  3.785714  3.000000  3.000000  2.000000   \n",
       "3              NaN  2.000000  1.000000  2.500000  2.333333  1.000000   \n",
       "\n",
       "                                                 ...                         \\\n",
       "age          21        22        23        24    ...           72        73   \n",
       "metro                                            ...                          \n",
       "1      2.380282  1.848485  2.126316  1.786517    ...     4.106667  4.352273   \n",
       "2      2.250000  2.461538  2.200000  2.227273    ...     4.840000  4.047619   \n",
       "3      1.000000  5.000000       NaN       NaN    ...     5.000000  5.000000   \n",
       "\n",
       "                                                                             \\\n",
       "age          74        75        76        77        78        79        80   \n",
       "metro                                                                         \n",
       "1      4.260417  4.567568  4.563380  4.428571  4.753086  4.812500  4.804428   \n",
       "2      4.000000  4.421053  4.764706  4.750000  4.333333  4.304348  4.645161   \n",
       "3           NaN  1.000000  5.000000       NaN  5.000000       NaN  5.000000   \n",
       "\n",
       "                 \n",
       "age          85  \n",
       "metro            \n",
       "1      4.785366  \n",
       "2      4.927273  \n",
       "3      5.000000  \n",
       "\n",
       "[3 rows x 67 columns]"
      ]
     },
     "execution_count": 18,
     "metadata": {},
     "output_type": "execute_result"
    }
   ],
   "source": [
    "pd.pivot_table(location, index=['metro'],columns=['age'],values=['labor_status'])\n",
    "##Pivot table showing average labor status for age  in metro areas"
   ]
  },
  {
   "cell_type": "code",
   "execution_count": 19,
   "metadata": {
    "collapsed": false
   },
   "outputs": [
    {
     "data": {
      "text/plain": [
       "<matplotlib.text.Text at 0x107bec588>"
      ]
     },
     "execution_count": 19,
     "metadata": {},
     "output_type": "execute_result"
    },
    {
     "data": {
      "image/png": "[encoded data removed]",
      "text/plain": [
       "<matplotlib.figure.Figure at 0x113892908>"
      ]
     },
     "metadata": {},
     "output_type": "display_data"
    }
   ],
   "source": [
    "location.plot(kind='scatter', x=['labor_status'],y=['age'])\n",
    "plt.xlabel('1 = employed, at work - 2 = employed, absent - 3 = unemployed , on layoff - 4 = unemployed , looking - 5 = Not in labor force')                   \n",
    "                                                                      "
   ]
  },
  {
   "cell_type": "code",
   "execution_count": 20,
   "metadata": {
    "collapsed": false
   },
   "outputs": [
    {
     "data": {
      "text/plain": [
       "<matplotlib.text.Text at 0x113892c88>"
      ]
     },
     "execution_count": 20,
     "metadata": {},
     "output_type": "execute_result"
    },
    {
     "data": {
      "image/png": "[encoded data removed]",
      "text/plain": [
       "<matplotlib.figure.Figure at 0x113b5e128>"
      ]
     },
     "metadata": {},
     "output_type": "display_data"
    }
   ],
   "source": [
    "location.plot(kind='hist', y=['labor_status'],x=['age'])\n",
    "plt.xlabel('1 = employed, at work - 2 = employed, absent - 3 = unemployed , on layoff - 4 = unemployed , looking - 5 = Not in labor force')\n",
    "##It looks like most people surveyed were employed and at work. \n"
   ]
  },
  {
   "cell_type": "code",
   "execution_count": 21,
   "metadata": {
    "collapsed": false
   },
   "outputs": [
    {
     "data": {
      "text/plain": [
       "<matplotlib.axes._subplots.AxesSubplot at 0x113fc4400>"
      ]
     },
     "execution_count": 21,
     "metadata": {},
     "output_type": "execute_result"
    },
    {
     "data": {
      "image/png": "[encoded data removed]",
      "text/plain": [
       "<matplotlib.figure.Figure at 0x113fcef28>"
      ]
     },
     "metadata": {},
     "output_type": "display_data"
    }
   ],
   "source": [
    "location.plot(kind='scatter', x=['Tobacco and drug use'], y=['metro'])\n",
    "#there is more tobacco and drug use in the city"
   ]
  },
  {
   "cell_type": "code",
   "execution_count": 22,
   "metadata": {
    "collapsed": false
   },
   "outputs": [
    {
     "data": {
      "text/plain": [
       "<matplotlib.axes._subplots.AxesSubplot at 0x113ce5d30>"
      ]
     },
     "execution_count": 22,
     "metadata": {},
     "output_type": "execute_result"
    },
    {
     "data": {
      "image/png": "[encoded data removed]",
      "text/plain": [
       "<matplotlib.figure.Figure at 0x107beb1d0>"
      ]
     },
     "metadata": {},
     "output_type": "display_data"
    }
   ],
   "source": [
    "location.plot(kind='scatter', x=['Tobacco and drug use'], y=['labor_status'])\n",
    "#There is more drug and use for people with jobs and people not in the job market"
   ]
  },
  {
   "cell_type": "code",
   "execution_count": 28,
   "metadata": {
    "collapsed": false
   },
   "outputs": [
    {
     "data": {
      "text/plain": [
       "<matplotlib.text.Text at 0x114aa1be0>"
      ]
     },
     "execution_count": 28,
     "metadata": {},
     "output_type": "execute_result"
    },
    {
     "data": {
      "image/png": "[encoded data removed]",
      "text/plain": [
       "<matplotlib.figure.Figure at 0x1143976d8>"
      ]
     },
     "metadata": {},
     "output_type": "display_data"
    }
   ],
   "source": [
    "location.plot(kind='hist', x=['Tobacco and drug use'], y=['age'])\n",
    "plt.ylabel(\"Tobacco and drug use\")\n",
    "#Tobacco and drug use increases with age and begins to decrease around age 50\n"
   ]
  },
  {
   "cell_type": "code",
   "execution_count": 24,
   "metadata": {
    "collapsed": false
   },
   "outputs": [
    {
     "data": {
      "text/plain": [
       "<matplotlib.axes._subplots.AxesSubplot at 0x113fdeb00>"
      ]
     },
     "execution_count": 24,
     "metadata": {},
     "output_type": "execute_result"
    },
    {
     "data": {
      "image/png": "[encoded data removed]",
      "text/plain": [
       "<matplotlib.figure.Figure at 0x1143d3748>"
      ]
     },
     "metadata": {},
     "output_type": "display_data"
    }
   ],
   "source": [
    "location.plot(kind='scatter', y=['Tobacco and drug use'], x=['age'])"
   ]
  },
  {
   "cell_type": "code",
   "execution_count": 27,
   "metadata": {
    "collapsed": false
   },
   "outputs": [
    {
     "data": {
      "text/plain": [
       "<matplotlib.text.Text at 0x114154f98>"
      ]
     },
     "execution_count": 27,
     "metadata": {},
     "output_type": "execute_result"
    },
    {
     "data": {
      "image/png": "[encoded data removed]",
      "text/plain": [
       "<matplotlib.figure.Figure at 0x1149a20b8>"
      ]
     },
     "metadata": {},
     "output_type": "display_data"
    }
   ],
   "source": [
    "location.plot(kind='box', x=['Tobacco and drug use'], y=['age'])\n",
    "plt.ylabel(\"Tobacco and drug use\")\n",
    "##there are more people taking Tobacco and drugs in their 30's to 50's than any other range."
   ]
  },
  {
   "cell_type": "code",
   "execution_count": null,
   "metadata": {
    "collapsed": true
   },
   "outputs": [],
   "source": []
  }
 ],
 "metadata": {
  "kernelspec": {
   "display_name": "Python 3",
   "language": "python",
   "name": "python3"
  },
  "language_info": {
   "codemirror_mode": {
    "name": "ipython",
    "version": 3
   },
   "file_extension": ".py",
   "mimetype": "text/x-python",
   "name": "python",
   "nbconvert_exporter": "python",
   "pygments_lexer": "ipython3",
   "version": "3.4.3"
  }
 },
 "nbformat": 4,
 "nbformat_minor": 0
}
